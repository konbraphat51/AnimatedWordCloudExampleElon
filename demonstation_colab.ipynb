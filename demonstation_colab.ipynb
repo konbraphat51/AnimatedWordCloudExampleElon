{
 "cells": [
  {
   "cell_type": "markdown",
   "metadata": {},
   "source": [
    "## Clean Elon data"
   ]
  },
  {
   "cell_type": "markdown",
   "metadata": {},
   "source": [
    "### Import data"
   ]
  },
  {
   "cell_type": "code",
   "execution_count": 22,
   "metadata": {},
   "outputs": [],
   "source": [
    "import pandas as pd"
   ]
  },
  {
   "cell_type": "markdown",
   "metadata": {},
   "source": [
    "download from [data.world](https://data.world/adamhelsinger/elon-musk-tweets-until-4-6-17)"
   ]
  },
  {
   "cell_type": "code",
   "execution_count": 23,
   "metadata": {},
   "outputs": [
    {
     "data": {
      "text/html": [
       "<div>\n",
       "<style scoped>\n",
       "    .dataframe tbody tr th:only-of-type {\n",
       "        vertical-align: middle;\n",
       "    }\n",
       "\n",
       "    .dataframe tbody tr th {\n",
       "        vertical-align: top;\n",
       "    }\n",
       "\n",
       "    .dataframe thead th {\n",
       "        text-align: right;\n",
       "    }\n",
       "</style>\n",
       "<table border=\"1\" class=\"dataframe\">\n",
       "  <thead>\n",
       "    <tr style=\"text-align: right;\">\n",
       "      <th></th>\n",
       "      <th>id</th>\n",
       "      <th>created_at</th>\n",
       "      <th>text</th>\n",
       "    </tr>\n",
       "  </thead>\n",
       "  <tbody>\n",
       "    <tr>\n",
       "      <th>0</th>\n",
       "      <td>849636868052275200</td>\n",
       "      <td>2017-04-05 14:56:29</td>\n",
       "      <td>b'And so the robots spared humanity ... https:...</td>\n",
       "    </tr>\n",
       "    <tr>\n",
       "      <th>1</th>\n",
       "      <td>848988730585096192</td>\n",
       "      <td>2017-04-03 20:01:01</td>\n",
       "      <td>b\"@ForIn2020 @waltmossberg @mims @defcon_5 Exa...</td>\n",
       "    </tr>\n",
       "    <tr>\n",
       "      <th>2</th>\n",
       "      <td>848943072423497728</td>\n",
       "      <td>2017-04-03 16:59:35</td>\n",
       "      <td>b'@waltmossberg @mims @defcon_5 Et tu, Walt?'</td>\n",
       "    </tr>\n",
       "    <tr>\n",
       "      <th>3</th>\n",
       "      <td>848935705057280001</td>\n",
       "      <td>2017-04-03 16:30:19</td>\n",
       "      <td>b'Stormy weather in Shortville ...'</td>\n",
       "    </tr>\n",
       "    <tr>\n",
       "      <th>4</th>\n",
       "      <td>848416049573658624</td>\n",
       "      <td>2017-04-02 06:05:23</td>\n",
       "      <td>b\"@DaveLeeBBC @verge Coal is dying due to nat ...</td>\n",
       "    </tr>\n",
       "  </tbody>\n",
       "</table>\n",
       "</div>"
      ],
      "text/plain": [
       "                   id           created_at  \\\n",
       "0  849636868052275200  2017-04-05 14:56:29   \n",
       "1  848988730585096192  2017-04-03 20:01:01   \n",
       "2  848943072423497728  2017-04-03 16:59:35   \n",
       "3  848935705057280001  2017-04-03 16:30:19   \n",
       "4  848416049573658624  2017-04-02 06:05:23   \n",
       "\n",
       "                                                text  \n",
       "0  b'And so the robots spared humanity ... https:...  \n",
       "1  b\"@ForIn2020 @waltmossberg @mims @defcon_5 Exa...  \n",
       "2      b'@waltmossberg @mims @defcon_5 Et tu, Walt?'  \n",
       "3                b'Stormy weather in Shortville ...'  \n",
       "4  b\"@DaveLeeBBC @verge Coal is dying due to nat ...  "
      ]
     },
     "execution_count": 23,
     "metadata": {},
     "output_type": "execute_result"
    }
   ],
   "source": [
    "df = pd.read_csv(\"elonmusk_tweets.csv\")\n",
    "\n",
    "df.head(5)"
   ]
  },
  {
   "cell_type": "code",
   "execution_count": 24,
   "metadata": {},
   "outputs": [
    {
     "data": {
      "text/plain": [
       "id             int64\n",
       "created_at    object\n",
       "text          object\n",
       "dtype: object"
      ]
     },
     "execution_count": 24,
     "metadata": {},
     "output_type": "execute_result"
    }
   ],
   "source": [
    "df.dtypes"
   ]
  },
  {
   "cell_type": "code",
   "execution_count": 25,
   "metadata": {},
   "outputs": [
    {
     "data": {
      "text/html": [
       "<div>\n",
       "<style scoped>\n",
       "    .dataframe tbody tr th:only-of-type {\n",
       "        vertical-align: middle;\n",
       "    }\n",
       "\n",
       "    .dataframe tbody tr th {\n",
       "        vertical-align: top;\n",
       "    }\n",
       "\n",
       "    .dataframe thead th {\n",
       "        text-align: right;\n",
       "    }\n",
       "</style>\n",
       "<table border=\"1\" class=\"dataframe\">\n",
       "  <thead>\n",
       "    <tr style=\"text-align: right;\">\n",
       "      <th></th>\n",
       "      <th>id</th>\n",
       "      <th>created_at</th>\n",
       "      <th>text</th>\n",
       "    </tr>\n",
       "  </thead>\n",
       "  <tbody>\n",
       "    <tr>\n",
       "      <th>0</th>\n",
       "      <td>849636868052275200</td>\n",
       "      <td>2017-04-05 14:56:29</td>\n",
       "      <td>b'And so the robots spared humanity ... https:...</td>\n",
       "    </tr>\n",
       "    <tr>\n",
       "      <th>1</th>\n",
       "      <td>848988730585096192</td>\n",
       "      <td>2017-04-03 20:01:01</td>\n",
       "      <td>b\"@ForIn2020 @waltmossberg @mims @defcon_5 Exa...</td>\n",
       "    </tr>\n",
       "    <tr>\n",
       "      <th>2</th>\n",
       "      <td>848943072423497728</td>\n",
       "      <td>2017-04-03 16:59:35</td>\n",
       "      <td>b'@waltmossberg @mims @defcon_5 Et tu, Walt?'</td>\n",
       "    </tr>\n",
       "    <tr>\n",
       "      <th>3</th>\n",
       "      <td>848935705057280001</td>\n",
       "      <td>2017-04-03 16:30:19</td>\n",
       "      <td>b'Stormy weather in Shortville ...'</td>\n",
       "    </tr>\n",
       "    <tr>\n",
       "      <th>4</th>\n",
       "      <td>848416049573658624</td>\n",
       "      <td>2017-04-02 06:05:23</td>\n",
       "      <td>b\"@DaveLeeBBC @verge Coal is dying due to nat ...</td>\n",
       "    </tr>\n",
       "  </tbody>\n",
       "</table>\n",
       "</div>"
      ],
      "text/plain": [
       "                   id          created_at  \\\n",
       "0  849636868052275200 2017-04-05 14:56:29   \n",
       "1  848988730585096192 2017-04-03 20:01:01   \n",
       "2  848943072423497728 2017-04-03 16:59:35   \n",
       "3  848935705057280001 2017-04-03 16:30:19   \n",
       "4  848416049573658624 2017-04-02 06:05:23   \n",
       "\n",
       "                                                text  \n",
       "0  b'And so the robots spared humanity ... https:...  \n",
       "1  b\"@ForIn2020 @waltmossberg @mims @defcon_5 Exa...  \n",
       "2      b'@waltmossberg @mims @defcon_5 Et tu, Walt?'  \n",
       "3                b'Stormy weather in Shortville ...'  \n",
       "4  b\"@DaveLeeBBC @verge Coal is dying due to nat ...  "
      ]
     },
     "execution_count": 25,
     "metadata": {},
     "output_type": "execute_result"
    }
   ],
   "source": [
    "df[\"created_at\"] = pd.to_datetime(df[\"created_at\"])\n",
    "\n",
    "df.head(5)"
   ]
  },
  {
   "cell_type": "code",
   "execution_count": 26,
   "metadata": {},
   "outputs": [
    {
     "data": {
      "text/plain": [
       "id                     int64\n",
       "created_at    datetime64[ns]\n",
       "text                  object\n",
       "dtype: object"
      ]
     },
     "execution_count": 26,
     "metadata": {},
     "output_type": "execute_result"
    }
   ],
   "source": [
    "df.dtypes"
   ]
  },
  {
   "cell_type": "code",
   "execution_count": 27,
   "metadata": {},
   "outputs": [],
   "source": [
    "from datetime import datetime as dt"
   ]
  },
  {
   "cell_type": "code",
   "execution_count": 28,
   "metadata": {},
   "outputs": [
    {
     "name": "stdout",
     "output_type": "stream",
     "text": [
      "(316, 3)\n",
      "(478, 3)\n",
      "(232, 3)\n",
      "(436, 3)\n",
      "(935, 3)\n",
      "(377, 3)\n"
     ]
    }
   ],
   "source": [
    "dfs_by_year = []\n",
    "\n",
    "for year in range(2012, 2018):\n",
    "    df_year = df[dt(year, 1, 1) <= df[\"created_at\"] ]\n",
    "    df_year = df_year[dt(year+1, 1, 1) > df_year[\"created_at\"]]\n",
    "    dfs_by_year.append(df_year)\n",
    "    print(df_year.shape)"
   ]
  },
  {
   "cell_type": "markdown",
   "metadata": {},
   "source": [
    "### Make Word Vector Timelapse"
   ]
  },
  {
   "cell_type": "code",
   "execution_count": 29,
   "metadata": {},
   "outputs": [],
   "source": [
    "from sklearn.feature_extraction.text import CountVectorizer"
   ]
  },
  {
   "cell_type": "code",
   "execution_count": 30,
   "metadata": {},
   "outputs": [],
   "source": [
    "stopwords = [\"the\", \"co\", \"http\", \"to\", \"of\", \"and\", \"on\", \"for\", \"just\", \"that\", \"with\", \"by\", \"is\", \"in\", \"at\", \"will\"]"
   ]
  },
  {
   "cell_type": "code",
   "execution_count": 31,
   "metadata": {},
   "outputs": [
    {
     "name": "stdout",
     "output_type": "stream",
     "text": [
      "{'rt': 47, 'model': 38, 'we': 37, 'spacex': 37, 'tesla': 33, 'dragon': 33, 'xe2': 31, 'x80': 31, 'it': 29, 'this': 26, 'rocket': 25, 'was': 25, 'space': 24, 'be': 21, 'are': 21, 'my': 21, 'an': 19, 'from': 19, 'about': 18, 'not': 18, 'now': 18, 'nasa': 17, 'all': 17, 'first': 17, 'station': 16, 'our': 15, 'amp': 15, 'people': 14, 'good': 14, 'more': 14, 'but': 14, 'most': 13, 'has': 13, 'time': 13, 'like': 12, 'as': 12, 'do': 12, 'you': 12, 'great': 12, 'test': 12, 'falcon': 12, 'mars': 11, 'launch': 11, 'x9c': 10, 'would': 10, 'x9d': 10, 'solar': 10}\n",
      "{'tesla': 79, 'rt': 59, 'xe2': 58, 'x80': 58, 'it': 57, 'amp': 48, 'be': 47, 'model': 45, 'we': 44, 'but': 35, 'rocket': 34, 'launch': 34, 'not': 34, 'good': 33, 'this': 33, 'from': 32, 'you': 32, 'about': 31, 'teslamotors': 31, 'are': 29, 'all': 29, 'was': 27, 'spacex': 27, 'my': 27, 'so': 26, 'like': 25, 'am': 23, 'elonmusk': 21, 'have': 21, 'no': 21, 'thanks': 20, 'car': 20, 'as': 19, 'there': 18, 'do': 18, 'time': 18, 'x9d': 17, 'can': 17, 'over': 16, 'now': 16, 'if': 16, 'should': 15, 'first': 15, 'would': 15, 'next': 15, 'has': 15, 'dragon': 15, 'or': 14, 'xa6': 14, 'change': 14, 'test': 14, 'what': 14, 'an': 14, 'falcon': 13, 'x9c': 13, 'cool': 13, 'flight': 13, 'up': 13, 'more': 13, 'our': 13, 'people': 13, 'out': 13, 'then': 13, 'long': 12, 'right': 12, 'announcement': 12, 'one': 12, 'yes': 12, 'cars': 12, 'than': 12, 'tax': 11, 'climate': 11, 'best': 11, 'fire': 11, 'some': 11, 'battery': 11, 'much': 11, 'new': 11, 'don': 11, 'world': 11, 'day': 10, 'lot': 10, 'when': 10, 'down': 10, 'great': 10, 'me': 10, 'article': 10, 'tomorrow': 10, 'going': 10}\n",
      "{'rt': 44, 'x80': 33, 'xe2': 32, 'tesla': 32, 'model': 23, 'falcon': 21, 'amp': 20, 'dragon': 19, 'from': 19, 'spacex': 18, 'this': 18, 'it': 18, 'teslamotors': 17, 'xa6': 16, 'flight': 14, 'launch': 14, 'new': 13, 'landing': 13, 'rocket': 13, 'about': 12, 'we': 12, 'be': 12, 'not': 11, 'now': 11, 'car': 11, 'but': 11, 'out': 10, 'over': 10, 'like': 10, 'la': 10, 'no': 10}\n",
      "{'rt': 108, 'xe2': 88, 'x80': 84, 'https': 76, 'xa6': 59, 'spacex': 58, 'tesla': 50, 'it': 41, 'launch': 37, 'we': 34, 'be': 33, 'model': 32, 'this': 31, 'but': 29, 'landing': 28, 'from': 28, 'dragon': 28, 'you': 27, 'rocket': 27, 'are': 27, 'amp': 26, 'good': 24, 'not': 22, 'falcon': 22, 'new': 21, 'an': 19, 'cars': 19, 'next': 18, 'as': 18, 'nhttp': 18, 'have': 17, 'elonmusk': 17, 'test': 17, 'teslamotors': 16, 'my': 16, 'our': 16, 'time': 16, 'all': 16, 'no': 16, 'can': 15, 'was': 15, 'car': 15, 'if': 15, 'has': 14, 'thanks': 14, 'like': 14, 'about': 14, 'up': 13, 'stage': 13, 'or': 13, 'future': 13, 'now': 13, 'over': 13, 'autopilot': 13, 'still': 12, 'more': 12, 'than': 12, 'space': 12, 'there': 11, 'high': 11, 'best': 11, 'cape': 11, 'mission': 11, 'mars': 11, 'droneship': 10, 'due': 10, 'driving': 10, 'ship': 10, 'nasa': 10, 'canaveral': 10, 'first': 10, 'one': 10, 'attempt': 10, 'orbit': 10, 'back': 10, 'live': 10, 'work': 10}\n",
      "{'https': 357, 'rt': 182, 'xe2': 147, 'x80': 135, 'tesla': 125, 'it': 119, 'xa6': 100, 'be': 98, 'teslamotors': 80, 'model': 72, 'this': 71, 'but': 70, 'you': 68, 'spacex': 67, 'we': 65, 'amp': 56, 'are': 50, 'yes': 49, 'no': 46, 'as': 44, 'not': 43, 'nhttps': 42, 'all': 41, 'like': 40, 'autopilot': 40, 'was': 38, 'from': 38, 'about': 38, 'good': 37, 'have': 32, 'car': 32, 'an': 32, 'more': 31, 'if': 31, 'so': 31, 'can': 31, 'or': 30, 'launch': 29, 'thanks': 28, 'there': 28, 'what': 28, 'than': 27, 'solar': 27, 'out': 26, 'would': 26, 'our': 26, 'landing': 26, 'my': 26, 'next': 26, 'elonmusk': 26, 'falcon': 25, 'great': 25, 'now': 25, 'one': 25, 'up': 24, 'rocket': 24, 'do': 24, 'mars': 24, 'some': 22, 'time': 22, 'should': 22, 'first': 21, 'only': 20, 'also': 20, 'need': 19, 'week': 19, 'your': 19, 'new': 19, 'year': 19, 'maybe': 18, 'off': 17, 'much': 17, 'go': 17, 'via': 17, 'today': 17, 'soon': 16, 'get': 16, 'stage': 16, 'most': 16, 'people': 16, 'cars': 16, 'lot': 16, 'really': 15, 'production': 15, 'right': 15, 'looks': 15, 'love': 15, 'has': 15, 'vicentes': 14, 'when': 14, 'max': 14, 'solarcity': 14, 'probably': 14, 'still': 14, 'roof': 14, 'don': 14, 'system': 13, 'too': 13, 'why': 13, 'high': 13, 'better': 13, 'few': 13, 'down': 13, 'driving': 13, 'exactly': 13, 'after': 13, 'droneship': 13, 'well': 12, 'article': 12, 'world': 12, 'even': 12, 'live': 12, 'course': 12, 'then': 12, 'way': 12, 'any': 12, 'software': 12, 'full': 12, 'actually': 12, 'nasa': 12, 'x99s': 12, 'other': 12, 'coming': 12, 'both': 11, 'dragon': 11, 'energy': 11, 'real': 11, 'ai': 11, 'et': 11, 'going': 11, 'update': 11, 'those': 11, 'make': 11, 'me': 11, 'working': 11, 'ever': 11, 'last': 11, 'makes': 11, 'very': 11, 'part': 10, 'point': 10, 'here': 10, 'think': 10, 'us': 10, 'miles': 10, 'california': 10, 'thrust': 10, 'before': 10, 'tomorrow': 10, 'best': 10, 'who': 10, 'radar': 10, 'its': 10, 'won': 10, 'enough': 10, 'openai': 10, 'sure': 10, 'every': 10, 'needed': 10, 'x98': 10, 'ship': 10, 'day': 10, 'future': 10, 'x85': 10, 'see': 10}\n",
      "{'https': 121, 'xe2': 84, 'x80': 77, 'xa6': 63, 'it': 60, 'rt': 50, 'be': 40, 'spacex': 39, 'we': 35, 'this': 34, 'are': 34, 'but': 32, 'you': 32, 'model': 31, 'tesla': 29, 'from': 27, 'my': 25, 'launch': 24, 'not': 23, 'so': 23, 'yes': 21, 'first': 20, 'amp': 20, 'as': 20, 'all': 20, 'good': 19, 'an': 18, 'next': 16, 'like': 16, 'no': 16, 'have': 16, 'falcon': 15, 'car': 15, 'out': 15, 'what': 14, 'there': 14, 'if': 14, 'or': 14, 'best': 14, 'more': 14, 'hyperloop': 14, 'should': 14, 'now': 14, 'about': 13, 'was': 13, 'can': 13, 'very': 12, 'do': 12, 'fredericlambert': 11, 'they': 11, 'right': 11, 'elonmusk': 11, 'has': 11, 'ever': 11, 'week': 10, 'go': 10, 'people': 10, 'maybe': 10, 'would': 10, 'many': 10, 'me': 10}\n"
     ]
    }
   ],
   "source": [
    "min_df = 10\n",
    "\n",
    "counter = CountVectorizer(stop_words=stopwords)\n",
    "\n",
    "dicts_by_year = []\n",
    "\n",
    "for cnt in range(len(dfs_by_year)):\n",
    "    np_year = counter.fit_transform(dfs_by_year[cnt][\"text\"]).toarray()\n",
    "    df_year = pd.DataFrame(np_year, columns=counter.get_feature_names_out())\n",
    "    \n",
    "    sr_sum = df_year.sum(axis=0).sort_values(ascending=False)\n",
    "  \n",
    "    sr_sum = sr_sum[sr_sum >= min_df]  \n",
    "    \n",
    "    #to dictionary\n",
    "    dict_year = sr_sum.to_dict()\n",
    "    \n",
    "    print(dict_year)\n",
    "    \n",
    "    dicts_by_year.append(dict_year)\n"
   ]
  },
  {
   "cell_type": "code",
   "execution_count": 32,
   "metadata": {},
   "outputs": [],
   "source": [
    "wordvector_timelapse = []\n",
    "\n",
    "for cnt in range(len(dicts_by_year)):\n",
    "    year = 2012 + cnt\n",
    "    wordvector_timelapse.append((year, dicts_by_year[cnt]))"
   ]
  },
  {
   "cell_type": "markdown",
   "metadata": {},
   "source": [
    "## Test AnimatedWordCloud"
   ]
  },
  {
   "cell_type": "code",
   "execution_count": null,
   "metadata": {},
   "outputs": [],
   "source": [
    "!pip install AnimatedWordCloudTimelapse"
   ]
  },
  {
   "cell_type": "markdown",
   "metadata": {},
   "source": [
    "### make animation"
   ]
  },
  {
   "cell_type": "code",
   "execution_count": null,
   "metadata": {},
   "outputs": [],
   "source": [
    "from AnimatedWordCloud import animate, Config\n",
    "\n",
    "config = Config(output_path=\"/content/\")\n",
    "result = animate(wordvector_timelapse, config)"
   ]
  },
  {
   "cell_type": "markdown",
   "metadata": {},
   "source": [
    "### Show result"
   ]
  },
  {
   "cell_type": "code",
   "execution_count": null,
   "metadata": {},
   "outputs": [],
   "source": [
    "from IPython.display import display, Image\n",
    "\n",
    "with open('/content/output.gif','rb') as f:\n",
    "    display(Image(data=f.read(), format='png'))"
   ]
  }
 ],
 "metadata": {
  "kernelspec": {
   "display_name": "thai",
   "language": "python",
   "name": "python3"
  },
  "language_info": {
   "codemirror_mode": {
    "name": "ipython",
    "version": 3
   },
   "file_extension": ".py",
   "mimetype": "text/x-python",
   "name": "python",
   "nbconvert_exporter": "python",
   "pygments_lexer": "ipython3",
   "version": "3.10.12"
  }
 },
 "nbformat": 4,
 "nbformat_minor": 2
}
